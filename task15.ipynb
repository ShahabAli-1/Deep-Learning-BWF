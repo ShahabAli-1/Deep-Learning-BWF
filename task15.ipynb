{
 "cells": [
  {
   "cell_type": "code",
   "execution_count": 3,
   "metadata": {},
   "outputs": [
    {
     "name": "stdout",
     "output_type": "stream",
     "text": [
      "0    Shahab\n",
      "1       Ali\n",
      "2       NaN\n",
      "3     Ahmed\n",
      "4      Khan\n",
      "5       NaN\n",
      "dtype: object\n"
     ]
    }
   ],
   "source": [
    "import numpy as np\n",
    "import pandas as pd\n",
    "\n",
    "data = pd.Series(['Shahab','Ali',np.nan,'Ahmed','Khan',np.nan])\n",
    "print(data)\n",
    "\n"
   ]
  },
  {
   "cell_type": "code",
   "execution_count": 4,
   "metadata": {},
   "outputs": [
    {
     "name": "stdout",
     "output_type": "stream",
     "text": [
      "0    False\n",
      "1    False\n",
      "2     True\n",
      "3    False\n",
      "4    False\n",
      "5     True\n",
      "dtype: bool\n"
     ]
    }
   ],
   "source": [
    "null_entries = data.isnull()\n",
    "print(null_entries)"
   ]
  },
  {
   "cell_type": "code",
   "execution_count": 5,
   "metadata": {},
   "outputs": [
    {
     "name": "stdout",
     "output_type": "stream",
     "text": [
      "0    Shahab\n",
      "1       Ali\n",
      "3     Ahmed\n",
      "4      Khan\n",
      "dtype: object\n"
     ]
    }
   ],
   "source": [
    "filtered_data_method1 = data.dropna()\n",
    "print(filtered_data_method1)"
   ]
  },
  {
   "cell_type": "code",
   "execution_count": 7,
   "metadata": {},
   "outputs": [
    {
     "name": "stdout",
     "output_type": "stream",
     "text": [
      "0    Shahab\n",
      "1       Ali\n",
      "3     Ahmed\n",
      "4      Khan\n",
      "dtype: object\n"
     ]
    }
   ],
   "source": [
    "filtered_data_method2 = data[data.notnull()]\n",
    "print(filtered_data_method2)\n"
   ]
  },
  {
   "cell_type": "code",
   "execution_count": 9,
   "metadata": {},
   "outputs": [
    {
     "name": "stdout",
     "output_type": "stream",
     "text": [
      "     0    1    2\n",
      "0  1.0  2.0  3.0\n",
      "1  4.0  NaN  NaN\n",
      "2  NaN  NaN  NaN\n",
      "     0    1    2\n",
      "0  1.0  2.0  3.0\n"
     ]
    }
   ],
   "source": [
    "data = pd.DataFrame([[1,2,3],[4,np.nan,np.nan],[np.nan,np.nan,np.nan]])\n",
    "print(data)\n",
    "filtered = data.dropna()\n",
    "print(filtered)"
   ]
  },
  {
   "cell_type": "code",
   "execution_count": 13,
   "metadata": {},
   "outputs": [
    {
     "name": "stdout",
     "output_type": "stream",
     "text": [
      "     0    1    2   4\n",
      "0  1.0  2.0  3.0 NaN\n",
      "1  4.0  NaN  NaN NaN\n",
      "2  NaN  NaN  NaN NaN\n",
      "     0    1    2\n",
      "0  1.0  2.0  3.0\n",
      "1  4.0  NaN  NaN\n",
      "2  NaN  NaN  NaN\n"
     ]
    }
   ],
   "source": [
    "data[4] = np.nan\n",
    "print(data)\n",
    "drop_col = data.dropna(how = 'all',axis=1)\n",
    "print(drop_col)"
   ]
  },
  {
   "cell_type": "code",
   "execution_count": 15,
   "metadata": {},
   "outputs": [
    {
     "name": "stdout",
     "output_type": "stream",
     "text": [
      "     0    1    2    4\n",
      "0  1.0  2.0  3.0  0.0\n",
      "1  4.0  0.0  0.0  0.0\n",
      "2  0.0  0.0  0.0  0.0\n"
     ]
    }
   ],
   "source": [
    "filled = data.fillna(0)\n",
    "print(filled)\n"
   ]
  },
  {
   "cell_type": "code",
   "execution_count": 16,
   "metadata": {},
   "outputs": [
    {
     "name": "stdout",
     "output_type": "stream",
     "text": [
      "     0    1    2     4\n",
      "0  1.0  2.0  3.0  50.0\n",
      "1  4.0  1.0  4.0  50.0\n",
      "2  0.5  1.0  4.0  50.0\n"
     ]
    }
   ],
   "source": [
    "filled_dictionary = data.fillna({0:0.5,1:1,2:4,4:50})\n",
    "print(filled_dictionary)"
   ]
  },
  {
   "cell_type": "code",
   "execution_count": 17,
   "metadata": {},
   "outputs": [
    {
     "name": "stdout",
     "output_type": "stream",
     "text": [
      "          0         1\n",
      "0  0.286923  1.320249\n",
      "1 -0.596723       NaN\n",
      "2  1.115864       NaN\n",
      "3       NaN       NaN\n",
      "4       NaN       NaN\n",
      "5       NaN       NaN\n"
     ]
    }
   ],
   "source": [
    "int_data = pd.DataFrame(np.random.randn(6,2))\n",
    "int_data.iloc[1:,1] = np.nan\n",
    "int_data.iloc[3:,0] = np.nan\n",
    "print(int_data)\n"
   ]
  },
  {
   "cell_type": "code",
   "execution_count": 19,
   "metadata": {},
   "outputs": [
    {
     "name": "stdout",
     "output_type": "stream",
     "text": [
      "          0         1\n",
      "0  0.286923  1.320249\n",
      "1 -0.596723  1.320249\n",
      "2  1.115864  1.320249\n",
      "3  1.115864  1.320249\n",
      "4  1.115864  1.320249\n",
      "5  1.115864  1.320249\n",
      "          0         1\n",
      "0  0.286923  1.320249\n",
      "1 -0.596723  1.320249\n",
      "2  1.115864  1.320249\n",
      "3  0.268688  1.320249\n",
      "4  0.268688  1.320249\n",
      "5  0.268688  1.320249\n"
     ]
    }
   ],
   "source": [
    "fill_int_data = int_data.fillna(method='ffill')\n",
    "print(fill_int_data)\n",
    "fill_with_mean = int_data.fillna(int_data.mean())\n",
    "print(fill_with_mean)"
   ]
  },
  {
   "cell_type": "code",
   "execution_count": 26,
   "metadata": {},
   "outputs": [
    {
     "name": "stdout",
     "output_type": "stream",
     "text": [
      "    names  int\n",
      "0  Shahab    1\n",
      "1     Ali    1\n",
      "2     Ali    2\n",
      "    names  int\n",
      "0  Shahab    1\n",
      "1     Ali    1\n"
     ]
    }
   ],
   "source": [
    "data = pd.DataFrame({'names':['Shahab','Ali','Ali'],'int':[1,1,2]})\n",
    "print(data)\n",
    "remove_duplicates = data.drop_duplicates(['names'])\n",
    "print(remove_duplicates)"
   ]
  },
  {
   "cell_type": "code",
   "execution_count": 27,
   "metadata": {},
   "outputs": [
    {
     "name": "stdout",
     "output_type": "stream",
     "text": [
      "0    1\n",
      "1    2\n",
      "2    3\n",
      "3    4\n",
      "4    5\n",
      "5    6\n",
      "6    7\n",
      "7    8\n",
      "dtype: int64\n",
      "0    10\n",
      "1     2\n",
      "2     3\n",
      "3     4\n",
      "4     5\n",
      "5     6\n",
      "6     7\n",
      "7     8\n",
      "dtype: int64\n"
     ]
    }
   ],
   "source": [
    "data = pd.Series([1,2,3,4,5,6,7,8])\n",
    "print(data)\n",
    "new_data = data.replace(1,10)\n",
    "print(new_data)"
   ]
  },
  {
   "cell_type": "code",
   "execution_count": 30,
   "metadata": {},
   "outputs": [
    {
     "name": "stdout",
     "output_type": "stream",
     "text": [
      "          0         1         2\n",
      "0  0.489742  0.654821  2.056972\n",
      "1  0.694873  0.181050 -0.299950\n",
      "2  0.309792  0.696091 -0.879490\n",
      "3  1.027815  0.258294  0.211189\n",
      "4  0.024438 -0.856509  1.257846\n",
      "5 -0.256606  0.153875 -0.673167\n",
      "6 -0.096140 -0.425925  1.220380\n",
      "7 -2.077600 -0.267982 -1.763817\n",
      "8 -0.547212  1.052564  0.832856\n",
      "9  0.505923  0.537963  0.423294\n",
      "3    1.027815\n",
      "7   -2.077600\n",
      "Name: 0, dtype: float64\n"
     ]
    }
   ],
   "source": [
    "df = pd.DataFrame(np.random.randn(10,3))\n",
    "print(df)\n"
   ]
  },
  {
   "cell_type": "code",
   "execution_count": null,
   "metadata": {},
   "outputs": [],
   "source": [
    "selected_column = df[0]\n",
    "filtered = selected_column[np.abs(selected_column)>1]\n",
    "print(filtered)"
   ]
  },
  {
   "cell_type": "code",
   "execution_count": 31,
   "metadata": {},
   "outputs": [
    {
     "name": "stdout",
     "output_type": "stream",
     "text": [
      "     0    1    2\n",
      "0  1.0  1.0  1.0\n",
      "1  1.0  1.0 -1.0\n",
      "2  1.0  1.0 -1.0\n",
      "3  1.0  1.0  1.0\n",
      "4  1.0 -1.0  1.0\n",
      "5 -1.0  1.0 -1.0\n",
      "6 -1.0 -1.0  1.0\n",
      "7 -1.0 -1.0 -1.0\n",
      "8 -1.0  1.0  1.0\n",
      "9  1.0  1.0  1.0\n"
     ]
    }
   ],
   "source": [
    "sign = np.sign(df)\n",
    "print(sign)"
   ]
  }
 ],
 "metadata": {
  "kernelspec": {
   "display_name": "Python 3",
   "language": "python",
   "name": "python3"
  },
  "language_info": {
   "codemirror_mode": {
    "name": "ipython",
    "version": 3
   },
   "file_extension": ".py",
   "mimetype": "text/x-python",
   "name": "python",
   "nbconvert_exporter": "python",
   "pygments_lexer": "ipython3",
   "version": "3.10.4"
  },
  "orig_nbformat": 4
 },
 "nbformat": 4,
 "nbformat_minor": 2
}
