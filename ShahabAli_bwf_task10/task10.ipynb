{
 "cells": [
  {
   "cell_type": "code",
   "execution_count": 26,
   "metadata": {},
   "outputs": [
    {
     "name": "stdout",
     "output_type": "stream",
     "text": [
      "[2 3 4 5 6 7]\n"
     ]
    }
   ],
   "source": [
    "import numpy as np\n",
    "data1 = [2,3,4,5,6,7]\n",
    "array_1d = np.array(data1)\n",
    "print(array_1d)\n",
    "\n"
   ]
  },
  {
   "cell_type": "code",
   "execution_count": 30,
   "metadata": {},
   "outputs": [
    {
     "name": "stdout",
     "output_type": "stream",
     "text": [
      "2d Array 1:  [[ 1  2  5  8  9]\n",
      " [34 12 14  6  7]]\n",
      "2d Array 2:  [[ 2  4  5  6  7]\n",
      " [ 2  3  4 56  3]]\n",
      "Multiplication of Arrays:  [[  2   8  25  48  63]\n",
      " [ 68  36  56 336  21]]\n",
      "Addition of Arrays:  [[ 3  6 10 14 16]\n",
      " [36 15 18 62 10]]\n",
      "Subtraction of Arrays:  [[  1   2   0  -2  -2]\n",
      " [-32  -9 -10  50  -4]]\n",
      "Reciprocal of array 1:  [[1.         0.5        0.2        0.125      0.11111111]\n",
      " [0.02941176 0.08333333 0.07142857 0.16666667 0.14285714]]\n"
     ]
    },
    {
     "data": {
      "text/plain": [
       "array([[False, False, False,  True,  True],\n",
       "       [ True,  True,  True, False,  True]])"
      ]
     },
     "execution_count": 30,
     "metadata": {},
     "output_type": "execute_result"
    }
   ],
   "source": [
    "data_1 = [[1,2,5,8,9],[34,12,14,6,7]]\n",
    "data_2 = [[2,4,5,6,7],[2,3,4,56,3]]\n",
    "array_2d_1 = np.array(data_1)\n",
    "array_2d_2 = np.array(data_2)\n",
    "print(\"2d Array 1: \",array_2d_1)\n",
    "print('2d Array 2: ',array_2d_2)\n",
    "array_multiplication= array_2d_1*array_2d_2\n",
    "print('Multiplication of Arrays: ',array_multiplication)\n",
    "array_addition = array_2d_1+array_2d_2\n",
    "print('Addition of Arrays: ',array_addition)\n",
    "array_subtract = array_2d_2-array_2d_1\n",
    "print('Subtraction of Arrays: ',array_subtract)\n",
    "array_2d_1_division = 1/array_2d_1\n",
    "print('Reciprocal of array 1: ',array_2d_1_division)\n",
    "array_2d_1>array_2d_2\n"
   ]
  },
  {
   "cell_type": "code",
   "execution_count": null,
   "metadata": {},
   "outputs": [],
   "source": []
  }
 ],
 "metadata": {
  "kernelspec": {
   "display_name": "Python 3",
   "language": "python",
   "name": "python3"
  },
  "language_info": {
   "codemirror_mode": {
    "name": "ipython",
    "version": 3
   },
   "file_extension": ".py",
   "mimetype": "text/x-python",
   "name": "python",
   "nbconvert_exporter": "python",
   "pygments_lexer": "ipython3",
   "version": "3.10.4"
  },
  "orig_nbformat": 4,
  "vscode": {
   "interpreter": {
    "hash": "24b6193b4c8718bbafe7ed7a6e3e664825ce187d2c9f1922b557cd535b202f7f"
   }
  }
 },
 "nbformat": 4,
 "nbformat_minor": 2
}
