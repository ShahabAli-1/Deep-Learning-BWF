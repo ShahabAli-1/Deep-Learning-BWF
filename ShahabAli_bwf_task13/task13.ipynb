{
 "cells": [
  {
   "cell_type": "code",
   "execution_count": 4,
   "metadata": {},
   "outputs": [
    {
     "name": "stdout",
     "output_type": "stream",
     "text": [
      "0    4\n",
      "1    7\n",
      "2   -5\n",
      "3    3\n",
      "dtype: int64\n",
      "[ 4  7 -5  3]\n",
      "RangeIndex(start=0, stop=4, step=1)\n"
     ]
    }
   ],
   "source": [
    "import pandas as pd\n",
    "import numpy as np\n",
    "from pandas import Series,DataFrame\n",
    "obj = pd.Series([4,7,-5,3])\n",
    "print(obj)\n",
    "print(obj.values)\n",
    "print(obj.index)\n"
   ]
  },
  {
   "cell_type": "code",
   "execution_count": 43,
   "metadata": {},
   "outputs": [
    {
     "name": "stdout",
     "output_type": "stream",
     "text": [
      "d    4\n",
      "b    7\n",
      "a   -5\n",
      "c    3\n",
      "dtype: int64\n",
      "Index(['d', 'b', 'a', 'c'], dtype='object')\n",
      "-5\n",
      "a   -5\n",
      "b    7\n",
      "c    3\n",
      "dtype: int64\n",
      "d    4\n",
      "b    7\n",
      "c    3\n",
      "dtype: int64\n"
     ]
    }
   ],
   "source": [
    "\n",
    "obj2 = pd.Series([4,7,-5,3], index=['d','b','a','c'])\n",
    "print(obj2)\n",
    "print(obj2.index)\n",
    "print(obj2['a'])\n",
    "print(obj2[['a','b','c']])\n",
    "print(obj2[obj2>0])\n"
   ]
  },
  {
   "cell_type": "code",
   "execution_count": 44,
   "metadata": {},
   "outputs": [
    {
     "name": "stdout",
     "output_type": "stream",
     "text": [
      "True\n",
      "False\n"
     ]
    }
   ],
   "source": [
    "print('b' in obj2)\n",
    "print('e' in obj2)"
   ]
  },
  {
   "cell_type": "code",
   "execution_count": 45,
   "metadata": {},
   "outputs": [
    {
     "name": "stdout",
     "output_type": "stream",
     "text": [
      "ohio       3500\n",
      "Texas      7000\n",
      "Oregon    11500\n",
      "dtype: int64\n",
      "3500\n",
      "ohio     3500\n",
      "Texas    7000\n",
      "dtype: int64\n"
     ]
    }
   ],
   "source": [
    "sdata = {'ohio':3500,'Texas':7000,'Oregon':11500}\n",
    "obj3 = pd.Series(sdata)\n",
    "print(obj3)\n",
    "print(obj3['ohio'])\n",
    "print(obj3[['ohio','Texas']])"
   ]
  },
  {
   "cell_type": "code",
   "execution_count": 46,
   "metadata": {},
   "outputs": [
    {
     "name": "stdout",
     "output_type": "stream",
     "text": [
      "California        NaN\n",
      "ohio           3500.0\n",
      "Oregon        11500.0\n",
      "Texas          7000.0\n",
      "dtype: float64\n",
      "California     True\n",
      "ohio          False\n",
      "Oregon        False\n",
      "Texas         False\n",
      "dtype: bool\n",
      "California    False\n",
      "ohio           True\n",
      "Oregon         True\n",
      "Texas          True\n",
      "dtype: bool\n",
      "California        NaN\n",
      "ohio           3500.0\n",
      "Oregon        11500.0\n",
      "Texas          7000.0\n",
      "Name: Population, dtype: float64\n"
     ]
    }
   ],
   "source": [
    "states = ['California','ohio','Oregon','Texas']\n",
    "obj4 = pd.Series(sdata,index=states)\n",
    "print(obj4)\n",
    "print(pd.isnull(obj4))\n",
    "print(pd.notnull(obj4))\n",
    "obj4.name = 'Population'\n",
    "print(obj4)\n"
   ]
  },
  {
   "cell_type": "code",
   "execution_count": 47,
   "metadata": {},
   "outputs": [
    {
     "name": "stdout",
     "output_type": "stream",
     "text": [
      "    state  year  pop\n",
      "0    Ohio  2000  1.5\n",
      "1    Ohio  2001  1.7\n",
      "2    Ohio  2002  3.6\n",
      "3  Nevada  2001  2.4\n",
      "4  Nevada  2002  2.9\n",
      "5  Nevada  2003  3.2\n",
      "    state  year  pop\n",
      "0    Ohio  2000  1.5\n",
      "1    Ohio  2001  1.7\n",
      "2    Ohio  2002  3.6\n",
      "3  Nevada  2001  2.4\n",
      "4  Nevada  2002  2.9\n",
      "   year  pop   state\n",
      "0  2000  1.5    Ohio\n",
      "1  2001  1.7    Ohio\n",
      "2  2002  3.6    Ohio\n",
      "3  2001  2.4  Nevada\n",
      "4  2002  2.9  Nevada\n",
      "5  2003  3.2  Nevada\n",
      "       year  pop   state\n",
      "one    2000  1.5    Ohio\n",
      "two    2001  1.7    Ohio\n",
      "three  2002  3.6    Ohio\n",
      "four   2001  2.4  Nevada\n",
      "five   2002  2.9  Nevada\n",
      "six    2003  3.2  Nevada\n"
     ]
    }
   ],
   "source": [
    "data =  {'state': ['Ohio', 'Ohio', 'Ohio', 'Nevada', 'Nevada', 'Nevada'],\n",
    " 'year': [2000, 2001, 2002, 2001, 2002, 2003],\n",
    " 'pop': [1.5, 1.7, 3.6, 2.4, 2.9, 3.2]}\n",
    "dataframe = pd.DataFrame(data)\n",
    "print(dataframe)\n",
    "print(dataframe.head())\n",
    "dataframe = pd.DataFrame(data,columns=['year','pop','state'])\n",
    "print(dataframe)\n",
    "dataframe = pd.DataFrame(data,columns=['year','pop','state']\n",
    "                         ,index = ['one','two','three','four','five','six'])\n",
    "print(dataframe)\n"
   ]
  },
  {
   "cell_type": "code",
   "execution_count": 48,
   "metadata": {},
   "outputs": [
    {
     "name": "stdout",
     "output_type": "stream",
     "text": [
      "one      2000\n",
      "two      2001\n",
      "three    2002\n",
      "four     2001\n",
      "five     2002\n",
      "six      2003\n",
      "Name: year, dtype: int64\n",
      "year     2002\n",
      "pop       3.6\n",
      "state    Ohio\n",
      "Name: three, dtype: object\n",
      "       year  pop   state  debt\n",
      "one    2000  1.5    Ohio   0.0\n",
      "two    2001  1.7    Ohio   1.0\n",
      "three  2002  3.6    Ohio   2.0\n",
      "four   2001  2.4  Nevada   3.0\n",
      "five   2002  2.9  Nevada   4.0\n",
      "six    2003  3.2  Nevada   5.0\n"
     ]
    }
   ],
   "source": [
    "print(dataframe['year'])\n",
    "print(dataframe.loc['three'])\n",
    "dataframe['debt'] = np.arange(6.)\n",
    "print(dataframe)"
   ]
  },
  {
   "cell_type": "code",
   "execution_count": 50,
   "metadata": {},
   "outputs": [
    {
     "name": "stdout",
     "output_type": "stream",
     "text": [
      "       year  pop   state  debt\n",
      "one    2000  1.5    Ohio  12.0\n",
      "two    2001  1.7    Ohio   NaN\n",
      "three  2002  3.6    Ohio   NaN\n",
      "four   2001  2.4  Nevada  34.0\n",
      "five   2002  2.9  Nevada   NaN\n",
      "six    2003  3.2  Nevada  55.0\n",
      "       year  pop   state\n",
      "one    2000  1.5    Ohio\n",
      "two    2001  1.7    Ohio\n",
      "three  2002  3.6    Ohio\n",
      "four   2001  2.4  Nevada\n",
      "five   2002  2.9  Nevada\n",
      "six    2003  3.2  Nevada\n"
     ]
    }
   ],
   "source": [
    "series = pd.Series([12,34,55],index=['one','four','six'])\n",
    "dataframe['debt'] = series\n",
    "print(dataframe)\n",
    "\n",
    "del dataframe['debt']\n",
    "print(dataframe)"
   ]
  },
  {
   "cell_type": "code",
   "execution_count": 55,
   "metadata": {},
   "outputs": [
    {
     "name": "stdout",
     "output_type": "stream",
     "text": [
      "0      pink\n",
      "2    yellow\n",
      "4      blue\n",
      "dtype: object\n",
      "0      pink\n",
      "1      pink\n",
      "2    yellow\n",
      "3    yellow\n",
      "4      blue\n",
      "5      blue\n",
      "dtype: object\n"
     ]
    }
   ],
   "source": [
    "series1 = pd.Series(['pink','yellow','blue'],index=[0,2,4])\n",
    "print(series1)\n",
    "series1 = series1.reindex(range(6),method='ffill')\n",
    "print(series1)"
   ]
  },
  {
   "cell_type": "code",
   "execution_count": 65,
   "metadata": {},
   "outputs": [
    {
     "name": "stdout",
     "output_type": "stream",
     "text": [
      "   ohio  texas  canada\n",
      "a     0      1       2\n",
      "b     3      4       5\n",
      "c     6      7       8\n"
     ]
    }
   ],
   "source": [
    "frame = pd.DataFrame(np.arange(9).reshape((3,3)),\n",
    "                     index=['a','b','c'],\n",
    "                     columns=['ohio','texas','canada'])\n",
    "print(frame)"
   ]
  },
  {
   "cell_type": "code",
   "execution_count": 12,
   "metadata": {},
   "outputs": [
    {
     "name": "stdout",
     "output_type": "stream",
     "text": [
      "   b  a\n",
      "0  4  0\n",
      "1  7  1\n",
      "2 -3  0\n",
      "3  2  1\n",
      "   b  a\n",
      "2 -3  0\n",
      "3  2  1\n",
      "0  4  0\n",
      "1  7  1\n",
      "   b  a\n",
      "2 -3  0\n",
      "3  2  1\n",
      "0  4  0\n",
      "1  7  1\n"
     ]
    }
   ],
   "source": [
    "df = pd.DataFrame({'b':[4,7,-3,2],'a':[0,1,0,1]})\n",
    "print(df)\n",
    "df = df.sort_values(by='b')\n",
    "print(df)\n",
    "df = df.sort_values(by=['b','a'])\n",
    "print(df)"
   ]
  }
 ],
 "metadata": {
  "kernelspec": {
   "display_name": "Python 3",
   "language": "python",
   "name": "python3"
  },
  "language_info": {
   "codemirror_mode": {
    "name": "ipython",
    "version": 3
   },
   "file_extension": ".py",
   "mimetype": "text/x-python",
   "name": "python",
   "nbconvert_exporter": "python",
   "pygments_lexer": "ipython3",
   "version": "3.10.4"
  },
  "orig_nbformat": 4
 },
 "nbformat": 4,
 "nbformat_minor": 2
}
