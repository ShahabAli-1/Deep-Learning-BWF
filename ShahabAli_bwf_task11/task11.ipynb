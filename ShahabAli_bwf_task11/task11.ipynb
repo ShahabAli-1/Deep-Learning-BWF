{
 "cells": [
  {
   "cell_type": "code",
   "execution_count": 7,
   "metadata": {},
   "outputs": [
    {
     "name": "stdout",
     "output_type": "stream",
     "text": [
      "Mean of array a is:  8.428571428571429\n",
      "Median of array a is:  8.0\n"
     ]
    },
    {
     "ename": "TypeError",
     "evalue": "remainder() takes from 2 to 3 positional arguments but 1 were given",
     "output_type": "error",
     "traceback": [
      "\u001b[1;31m---------------------------------------------------------------------------\u001b[0m",
      "\u001b[1;31mTypeError\u001b[0m                                 Traceback (most recent call last)",
      "Cell \u001b[1;32mIn[7], line 7\u001b[0m\n\u001b[0;32m      5\u001b[0m median_a \u001b[39m=\u001b[39m np\u001b[39m.\u001b[39mmedian(a)\n\u001b[0;32m      6\u001b[0m \u001b[39mprint\u001b[39m(\u001b[39m'\u001b[39m\u001b[39mMedian of array a is: \u001b[39m\u001b[39m'\u001b[39m,median_a)\n\u001b[1;32m----> 7\u001b[0m mode_a \u001b[39m=\u001b[39m np\u001b[39m.\u001b[39;49mmod(a)\n\u001b[0;32m      8\u001b[0m \u001b[39mprint\u001b[39m(\u001b[39m'\u001b[39m\u001b[39mMode of array a is: \u001b[39m\u001b[39m'\u001b[39m,mode_a)\n",
      "\u001b[1;31mTypeError\u001b[0m: remainder() takes from 2 to 3 positional arguments but 1 were given"
     ]
    }
   ],
   "source": [
    "import numpy as np\n",
    "\n",
    "a = np.array([12,7,15,8,9,5,3])\n",
    "mean_a = np.mean(a)\n",
    "print('Mean of array a is: ',mean_a)\n",
    "median_a = np.median(a)\n",
    "print('Median of array a is: ',median_a)\n"
   ]
  },
  {
   "cell_type": "code",
   "execution_count": 11,
   "metadata": {},
   "outputs": [
    {
     "name": "stdout",
     "output_type": "stream",
     "text": [
      "Mode of array a is:  12\n"
     ]
    }
   ],
   "source": [
    "import statistics as stat\n",
    "a = np.array([12,7,15,8,9,5,3])\n",
    "mode_a = stat.mode(a)\n",
    "print('Mode of array a is: ',mode_a)"
   ]
  },
  {
   "cell_type": "code",
   "execution_count": 19,
   "metadata": {},
   "outputs": [
    {
     "name": "stdout",
     "output_type": "stream",
     "text": [
      "Quantile:  2.2\n"
     ]
    }
   ],
   "source": [
    "array_ = np.array([[9,2,7,4,5,6],[1,5,8,4,10,12]])\n",
    "quantile = np.quantile(array_,0.5)\n",
    "print('Quantile: ',quantile)"
   ]
  },
  {
   "cell_type": "code",
   "execution_count": 23,
   "metadata": {},
   "outputs": [
    {
     "name": "stdout",
     "output_type": "stream",
     "text": [
      "[0 1 2 4 8 5 6 7 3]\n",
      "[0 1 2 8 3 5 6 7 4]\n"
     ]
    }
   ],
   "source": [
    "arr = np.array([2,3,4,120,8,65,76,100,15])\n",
    "order = arr.argsort()\n",
    "rank = order.argsort()\n",
    "print(order)\n",
    "print(rank)\n",
    "\n"
   ]
  },
  {
   "cell_type": "code",
   "execution_count": 27,
   "metadata": {},
   "outputs": [
    {
     "name": "stderr",
     "output_type": "stream",
     "text": [
      "C:\\Users\\Eisha Fatima\\AppData\\Local\\Temp\\ipykernel_10056\\2740662561.py:4: UserWarning: \n",
      "\n",
      "`distplot` is a deprecated function and will be removed in seaborn v0.14.0.\n",
      "\n",
      "Please adapt your code to use either `displot` (a figure-level function with\n",
      "similar flexibility) or `histplot` (an axes-level function for histograms).\n",
      "\n",
      "For a guide to updating your code to use the new functions, please see\n",
      "https://gist.github.com/mwaskom/de44147ed2974457ad6372750bbe5751\n",
      "\n",
      "  ax = sns.distplot(data_binomial_distribution,\n"
     ]
    },
    {
     "data": {
      "text/plain": [
       "[Text(0.5, 0, 'Binomial Distribution'), Text(0, 0.5, 'Frequency')]"
      ]
     },
     "execution_count": 27,
     "metadata": {},
     "output_type": "execute_result"
    },
    {
     "data": {
      "image/png": "[encoded data removed]",
      "text/plain": [
       "<Figure size 640x480 with 1 Axes>"
      ]
     },
     "metadata": {},
     "output_type": "display_data"
    }
   ],
   "source": [
    "from scipy.stats import binom\n",
    "import seaborn as sns\n",
    "data_binomial_distribution = binom.rvs(n=10,p=0.8,size=5000)\n",
    "ax = sns.distplot(data_binomial_distribution,\n",
    "                  kde=False,\n",
    "                  color='skyblue',\n",
    "                  hist_kws={\"linewidth\": 15,'alpha':1})\n",
    "ax.set(xlabel='Binomial Distribution', ylabel='Frequency')\n"
   ]
  }
 ],
 "metadata": {
  "kernelspec": {
   "display_name": "Python 3",
   "language": "python",
   "name": "python3"
  },
  "language_info": {
   "codemirror_mode": {
    "name": "ipython",
    "version": 3
   },
   "file_extension": ".py",
   "mimetype": "text/x-python",
   "name": "python",
   "nbconvert_exporter": "python",
   "pygments_lexer": "ipython3",
   "version": "3.10.4"
  },
  "orig_nbformat": 4
 },
 "nbformat": 4,
 "nbformat_minor": 2
}
