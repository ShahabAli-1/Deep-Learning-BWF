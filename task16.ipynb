{
 "cells": [
  {
   "cell_type": "code",
   "execution_count": 18,
   "metadata": {},
   "outputs": [],
   "source": [
    "import pandas as pd\n",
    "import numpy as np\n",
    "\n",
    "data1 = pd.DataFrame({'names':['Shahab','Ali','Khan','Ahmed'],'age':[21,23,33,25]})\n",
    "data2 = pd.DataFrame({'names':['Shahab','Khan','Mashoor'],'age1':[21,222,34]})\n",
    "\n"
   ]
  },
  {
   "cell_type": "code",
   "execution_count": 14,
   "metadata": {},
   "outputs": [
    {
     "name": "stdout",
     "output_type": "stream",
     "text": [
      "    names  age\n",
      "0  Shahab   21\n",
      "1     Ali   23\n",
      "2    Khan   33\n",
      "3   Ahmed   25\n",
      "     names  age1\n",
      "0   Shahab    21\n",
      "1     Khan   222\n",
      "2  Mashoor    34\n",
      "\n",
      "    names  age  age1\n",
      "0  Shahab   21    21\n",
      "1    Khan   33   222\n"
     ]
    }
   ],
   "source": [
    "print(data1)\n",
    "print(data2)\n",
    "print()\n",
    "merged = pd.merge(data1,data2)\n",
    "print(merged)"
   ]
  },
  {
   "cell_type": "code",
   "execution_count": 19,
   "metadata": {},
   "outputs": [
    {
     "name": "stdout",
     "output_type": "stream",
     "text": [
      "  names_x  age names_y  age1\n",
      "0  Shahab   21  Shahab    21\n"
     ]
    }
   ],
   "source": [
    "merge1 = pd.merge(data1,data2,left_on='age',right_on='age1')\n",
    "print(merge1)"
   ]
  },
  {
   "cell_type": "code",
   "execution_count": 22,
   "metadata": {},
   "outputs": [
    {
     "name": "stdout",
     "output_type": "stream",
     "text": [
      "     names   age   age1\n",
      "0   Shahab  21.0   21.0\n",
      "1      Ali  23.0    NaN\n",
      "2     Khan  33.0  222.0\n",
      "3    Ahmed  25.0    NaN\n",
      "4  Mashoor   NaN   34.0\n"
     ]
    }
   ],
   "source": [
    "merge_outer = pd.merge(data1,data2,how='outer')\n",
    "print(merge_outer)"
   ]
  },
  {
   "cell_type": "code",
   "execution_count": 25,
   "metadata": {},
   "outputs": [
    {
     "name": "stdout",
     "output_type": "stream",
     "text": [
      "    names  age   age1\n",
      "0  Shahab   21   21.0\n",
      "1     Ali   23    NaN\n",
      "2    Khan   33  222.0\n",
      "3   Ahmed   25    NaN\n"
     ]
    }
   ],
   "source": [
    "merge_left = pd.merge(data1,data2,how='left')\n",
    "print(merge_left)\n"
   ]
  },
  {
   "cell_type": "code",
   "execution_count": 26,
   "metadata": {},
   "outputs": [
    {
     "name": "stdout",
     "output_type": "stream",
     "text": [
      "     names   age  age1\n",
      "0   Shahab  21.0    21\n",
      "1     Khan  33.0   222\n",
      "2  Mashoor   NaN    34\n"
     ]
    }
   ],
   "source": [
    "merge_right = pd.merge(data1,data2,how='right')\n",
    "print(merge_right)"
   ]
  },
  {
   "cell_type": "code",
   "execution_count": 31,
   "metadata": {},
   "outputs": [],
   "source": [
    "set1 = pd.Series([np.nan,1,2,3,4,np.nan,67],index=[0,1,2,3,4,5,6])\n",
    "set2 = pd.Series([56,3,np.nan,34,44,65,68],index=[0,1,2,3,4,5,6])\n"
   ]
  },
  {
   "cell_type": "code",
   "execution_count": 32,
   "metadata": {},
   "outputs": [
    {
     "name": "stdout",
     "output_type": "stream",
     "text": [
      "[56.  1.  2.  3.  4. 65. 67.]\n"
     ]
    }
   ],
   "source": [
    "combined_set = np.where(pd.isnull(set1),set2,set1)\n",
    "print(combined_set)"
   ]
  },
  {
   "cell_type": "code",
   "execution_count": 34,
   "metadata": {},
   "outputs": [
    {
     "name": "stdout",
     "output_type": "stream",
     "text": [
      "0    56.0\n",
      "1     1.0\n",
      "2     2.0\n",
      "3     3.0\n",
      "4     4.0\n",
      "5    65.0\n",
      "6    67.0\n",
      "dtype: float64\n"
     ]
    }
   ],
   "source": [
    "combined_first = set1.combine_first(set2)\n",
    "print(combined_first)"
   ]
  },
  {
   "cell_type": "code",
   "execution_count": 36,
   "metadata": {},
   "outputs": [
    {
     "name": "stdout",
     "output_type": "stream",
     "text": [
      "      x  y\n",
      "int1  0  1\n",
      "int2  2  3\n",
      "int3  4  5\n"
     ]
    }
   ],
   "source": [
    "data = pd.DataFrame(np.arange(6).reshape((3,2)),\n",
    "                    index=pd.Index(['int1','int2','int3']),\n",
    "                    columns=pd.Index(['x','y']\n",
    "                    ))\n",
    "print(data)\n"
   ]
  },
  {
   "cell_type": "code",
   "execution_count": 38,
   "metadata": {},
   "outputs": [
    {
     "name": "stdout",
     "output_type": "stream",
     "text": [
      "int1  x    0\n",
      "      y    1\n",
      "int2  x    2\n",
      "      y    3\n",
      "int3  x    4\n",
      "      y    5\n",
      "dtype: int32\n"
     ]
    }
   ],
   "source": [
    "stacked = data.stack()\n",
    "print(stacked)\n"
   ]
  },
  {
   "cell_type": "code",
   "execution_count": 40,
   "metadata": {},
   "outputs": [
    {
     "name": "stdout",
     "output_type": "stream",
     "text": [
      "x  0     23\n",
      "   1      5\n",
      "   2      6\n",
      "   3      7\n",
      "y  0    237\n",
      "   1     56\n",
      "   2     65\n",
      "   3     74\n",
      "dtype: int64\n"
     ]
    }
   ],
   "source": [
    "set1 = pd.Series([23,5,6,7],index=[0,1,2,3])\n",
    "set2 = pd.Series([237,56,65,74],index=[0,1,2,3])\n",
    "\n",
    "reshaped = pd.concat([set1,set2],keys=['x','y'])\n",
    "print(reshaped)\n"
   ]
  },
  {
   "cell_type": "code",
   "execution_count": 41,
   "metadata": {},
   "outputs": [
    {
     "data": {
      "text/html": [
       "<div>\n",
       "<style scoped>\n",
       "    .dataframe tbody tr th:only-of-type {\n",
       "        vertical-align: middle;\n",
       "    }\n",
       "\n",
       "    .dataframe tbody tr th {\n",
       "        vertical-align: top;\n",
       "    }\n",
       "\n",
       "    .dataframe thead th {\n",
       "        text-align: right;\n",
       "    }\n",
       "</style>\n",
       "<table border=\"1\" class=\"dataframe\">\n",
       "  <thead>\n",
       "    <tr style=\"text-align: right;\">\n",
       "      <th></th>\n",
       "      <th>0</th>\n",
       "      <th>1</th>\n",
       "      <th>2</th>\n",
       "      <th>3</th>\n",
       "    </tr>\n",
       "  </thead>\n",
       "  <tbody>\n",
       "    <tr>\n",
       "      <th>x</th>\n",
       "      <td>23</td>\n",
       "      <td>5</td>\n",
       "      <td>6</td>\n",
       "      <td>7</td>\n",
       "    </tr>\n",
       "    <tr>\n",
       "      <th>y</th>\n",
       "      <td>237</td>\n",
       "      <td>56</td>\n",
       "      <td>65</td>\n",
       "      <td>74</td>\n",
       "    </tr>\n",
       "  </tbody>\n",
       "</table>\n",
       "</div>"
      ],
      "text/plain": [
       "     0   1   2   3\n",
       "x   23   5   6   7\n",
       "y  237  56  65  74"
      ]
     },
     "execution_count": 41,
     "metadata": {},
     "output_type": "execute_result"
    }
   ],
   "source": [
    "reshaped.unstack()"
   ]
  },
  {
   "cell_type": "code",
   "execution_count": 43,
   "metadata": {},
   "outputs": [
    {
     "data": {
      "text/plain": [
       "x  0     23\n",
       "   1      5\n",
       "   2      6\n",
       "   3      7\n",
       "y  0    237\n",
       "   1     56\n",
       "   2     65\n",
       "   3     74\n",
       "dtype: int64"
      ]
     },
     "execution_count": 43,
     "metadata": {},
     "output_type": "execute_result"
    }
   ],
   "source": [
    "reshaped.unstack().stack()"
   ]
  }
 ],
 "metadata": {
  "kernelspec": {
   "display_name": "Python 3",
   "language": "python",
   "name": "python3"
  },
  "language_info": {
   "codemirror_mode": {
    "name": "ipython",
    "version": 3
   },
   "file_extension": ".py",
   "mimetype": "text/x-python",
   "name": "python",
   "nbconvert_exporter": "python",
   "pygments_lexer": "ipython3",
   "version": "3.10.4"
  },
  "orig_nbformat": 4
 },
 "nbformat": 4,
 "nbformat_minor": 2
}
