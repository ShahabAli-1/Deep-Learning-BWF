{
 "cells": [
  {
   "cell_type": "code",
   "execution_count": null,
   "metadata": {},
   "outputs": [],
   "source": [
    "from sklearn.datasets import load_breast_cancer\n",
    "from sklearn.model_selection import train_test_split\n",
    "\n",
    "#We first load the breast cancer dataset using the \n",
    "# load_breast_cancer() function from scikit-learn.\n",
    "data = load_breast_cancer()\n",
    "\n",
    "# We split the data into train and test sets using the train_test_split() \n",
    "# function, with a test size of 0.2 \n",
    "# (20% of the data) and a random state of 42 for reproducibility.\n",
    "X_train, X_test, y_train, y_test = train_test_split(data.data, data.target, test_size=0.2, random_state=42)\n",
    "\n",
    "#We then further split the train set into train and validation sets using the \n",
    "# same train_test_split() function, with a validation size of 0.25 \n",
    "# (25% of the train data) and the same random state of 42.\n",
    "\n",
    "X_train, X_val, y_train, y_val = train_test_split(X_train, y_train, test_size=0.25, random_state=42)\n",
    "\n",
    "\n",
    "#Finally, we print the sizes of the train, test, and validation sets using the \n",
    "# len() function.\n",
    "print(\"Train set size: \", len(X_train))\n",
    "print(\"Test set size: \", len(X_test))\n",
    "print(\"Validation set size: \", len(X_val))\n",
    "\n",
    "\n",
    "\n"
   ]
  }
 ],
 "metadata": {
  "language_info": {
   "name": "python"
  },
  "orig_nbformat": 4
 },
 "nbformat": 4,
 "nbformat_minor": 2
}
