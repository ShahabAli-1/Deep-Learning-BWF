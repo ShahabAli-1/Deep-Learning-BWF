{
 "cells": [
  {
   "cell_type": "code",
   "execution_count": 9,
   "metadata": {},
   "outputs": [
    {
     "data": {
      "text/plain": [
       "array([0, 1, 2, 3, 4])"
      ]
     },
     "execution_count": 9,
     "metadata": {},
     "output_type": "execute_result"
    }
   ],
   "source": [
    "import numpy as np\n",
    "num_array = np.arange(5)\n",
    "num_array"
   ]
  },
  {
   "cell_type": "code",
   "execution_count": 10,
   "metadata": {},
   "outputs": [
    {
     "data": {
      "text/plain": [
       "array([ 0,  4,  8, 12, 16])"
      ]
     },
     "execution_count": 10,
     "metadata": {},
     "output_type": "execute_result"
    }
   ],
   "source": [
    "num_array*4\n"
   ]
  },
  {
   "cell_type": "code",
   "execution_count": 11,
   "metadata": {},
   "outputs": [
    {
     "data": {
      "text/plain": [
       "array([-0.02594968,  0.47690411, -1.58030787])"
      ]
     },
     "execution_count": 11,
     "metadata": {},
     "output_type": "execute_result"
    }
   ],
   "source": [
    "num_array = np.random.randn(4, 3)\n",
    "num_array.mean(0)\n"
   ]
  },
  {
   "cell_type": "code",
   "execution_count": 12,
   "metadata": {},
   "outputs": [
    {
     "name": "stdout",
     "output_type": "stream",
     "text": [
      "[[-1.00654046 -0.10685371 -0.01737452]\n",
      " [-0.43075023 -1.39308271 -0.02642014]\n",
      " [ 1.98620411  1.15551005  0.88132547]\n",
      " [-0.54891342  0.34442637 -0.8375308 ]]\n",
      "[2.77555756e-17 1.38777878e-17 5.55111512e-17]\n"
     ]
    }
   ],
   "source": [
    "dm = num_array - num_array.mean(0)\n",
    "print(dm)\n",
    "print(dm.mean(0))\n"
   ]
  },
  {
   "cell_type": "code",
   "execution_count": 14,
   "metadata": {},
   "outputs": [
    {
     "name": "stdout",
     "output_type": "stream",
     "text": [
      "(4,)\n",
      "[[-0.75337404]\n",
      " [-0.99320217]\n",
      " [ 0.96456207]\n",
      " [-0.72379043]]\n",
      "[0.00000000e+00 7.40148683e-17 7.40148683e-17 0.00000000e+00]\n"
     ]
    }
   ],
   "source": [
    "r_means = num_array.mean(1)\n",
    "print(r_means.shape)\n",
    "print(r_means.reshape((4, 1)))\n",
    "dm = num_array-r_means.reshape((4,1))\n",
    "print(dm.mean(1))\n"
   ]
  },
  {
   "cell_type": "code",
   "execution_count": 21,
   "metadata": {},
   "outputs": [
    {
     "data": {
      "text/plain": [
       "(4, 1, 4)"
      ]
     },
     "execution_count": 21,
     "metadata": {},
     "output_type": "execute_result"
    }
   ],
   "source": [
    "zero_array = np.zeros((4,4))\n",
    "array_3d = zero_array[:,np.newaxis,:]\n",
    "array_3d.shape"
   ]
  },
  {
   "cell_type": "code",
   "execution_count": 22,
   "metadata": {},
   "outputs": [
    {
     "data": {
      "text/plain": [
       "array([[-1.42492468],\n",
       "       [ 0.3630849 ],\n",
       "       [ 0.83401657]])"
      ]
     },
     "execution_count": 22,
     "metadata": {},
     "output_type": "execute_result"
    }
   ],
   "source": [
    "arr_1d = np.random.normal(size=3)\n",
    "arr_1d[:,np.newaxis]\n"
   ]
  },
  {
   "cell_type": "code",
   "execution_count": 23,
   "metadata": {},
   "outputs": [
    {
     "data": {
      "text/plain": [
       "array([[-1.42492468,  0.3630849 ,  0.83401657]])"
      ]
     },
     "execution_count": 23,
     "metadata": {},
     "output_type": "execute_result"
    }
   ],
   "source": [
    "arr_1d[np.newaxis,:]"
   ]
  },
  {
   "cell_type": "code",
   "execution_count": 25,
   "metadata": {},
   "outputs": [
    {
     "name": "stdout",
     "output_type": "stream",
     "text": [
      "[[-0.07067201 -0.55497039 -0.36749818  0.54732977]\n",
      " [-0.64488794 -0.77168945  0.31604643 -0.84397932]\n",
      " [-0.41777185  0.36606447 -0.45710466 -0.37478846]]\n",
      "(3, 4)\n"
     ]
    }
   ],
   "source": [
    "array = np.random.randn(3,4,5)\n",
    "depth_means = array.mean(2)\n",
    "print(depth_means)\n",
    "print(depth_means.shape)\n"
   ]
  },
  {
   "cell_type": "code",
   "execution_count": 26,
   "metadata": {},
   "outputs": [
    {
     "name": "stdout",
     "output_type": "stream",
     "text": [
      "[[5. 5. 5.]\n",
      " [5. 5. 5.]\n",
      " [5. 5. 5.]\n",
      " [5. 5. 5.]]\n"
     ]
    }
   ],
   "source": [
    "new_arr = np.zeros((4,3))\n",
    "new_arr[:] = 5\n",
    "print(new_arr)"
   ]
  },
  {
   "cell_type": "code",
   "execution_count": 36,
   "metadata": {},
   "outputs": [
    {
     "name": "stdout",
     "output_type": "stream",
     "text": [
      "Setting Array Values By Broadcasting\n",
      "[[ 1.28  1.28  1.28]\n",
      " [-0.42 -0.42 -0.42]\n",
      " [ 0.44  0.44  0.44]\n",
      " [ 1.6   1.6   1.6 ]]\n",
      "[[-2.   -2.   -2.  ]\n",
      " [-5.   -5.   -5.  ]\n",
      " [ 0.44  0.44  0.44]\n",
      " [ 1.6   1.6   1.6 ]]\n",
      "[[3.  3.  3. ]\n",
      " [4.  4.  4. ]\n",
      " [6.  6.  6. ]\n",
      " [1.6 1.6 1.6]]\n"
     ]
    }
   ],
   "source": [
    "print('Setting Array Values By Broadcasting')\n",
    "column = np.array([1.28,-0.42,0.44,1.6])\n",
    "new_arr[:4] = column[:,np.newaxis]\n",
    "print(new_arr)\n",
    "new_arr[:2] = [[-2],[-5]]\n",
    "print(new_arr)\n",
    "new_arr[:3] = [[3],[4],[6]]\n",
    "print(new_arr)"
   ]
  }
 ],
 "metadata": {
  "kernelspec": {
   "display_name": "Python 3",
   "language": "python",
   "name": "python3"
  },
  "language_info": {
   "codemirror_mode": {
    "name": "ipython",
    "version": 3
   },
   "file_extension": ".py",
   "mimetype": "text/x-python",
   "name": "python",
   "nbconvert_exporter": "python",
   "pygments_lexer": "ipython3",
   "version": "3.10.4"
  },
  "orig_nbformat": 4
 },
 "nbformat": 4,
 "nbformat_minor": 2
}
